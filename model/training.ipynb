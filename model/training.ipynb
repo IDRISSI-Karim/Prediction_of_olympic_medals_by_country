{
 "cells": [
  {
   "cell_type": "code",
   "execution_count": 66,
   "metadata": {},
   "outputs": [],
   "source": [
    "import pandas as pd"
   ]
  },
  {
   "cell_type": "code",
   "execution_count": 67,
   "metadata": {},
   "outputs": [],
   "source": [
    "teams = pd.read_csv(\"../data/teams.csv\")"
   ]
  },
  {
   "cell_type": "code",
   "execution_count": 68,
   "metadata": {},
   "outputs": [
    {
     "data": {
      "text/html": [
       "<div>\n",
       "<style scoped>\n",
       "    .dataframe tbody tr th:only-of-type {\n",
       "        vertical-align: middle;\n",
       "    }\n",
       "\n",
       "    .dataframe tbody tr th {\n",
       "        vertical-align: top;\n",
       "    }\n",
       "\n",
       "    .dataframe thead th {\n",
       "        text-align: right;\n",
       "    }\n",
       "</style>\n",
       "<table border=\"1\" class=\"dataframe\">\n",
       "  <thead>\n",
       "    <tr style=\"text-align: right;\">\n",
       "      <th></th>\n",
       "      <th>team</th>\n",
       "      <th>country</th>\n",
       "      <th>year</th>\n",
       "      <th>events</th>\n",
       "      <th>athletes</th>\n",
       "      <th>age</th>\n",
       "      <th>height</th>\n",
       "      <th>weight</th>\n",
       "      <th>medals</th>\n",
       "      <th>prev_medals</th>\n",
       "      <th>prev_3_medals</th>\n",
       "    </tr>\n",
       "  </thead>\n",
       "  <tbody>\n",
       "    <tr>\n",
       "      <th>0</th>\n",
       "      <td>AFG</td>\n",
       "      <td>Afghanistan</td>\n",
       "      <td>1964</td>\n",
       "      <td>8</td>\n",
       "      <td>8</td>\n",
       "      <td>22.0</td>\n",
       "      <td>161.0</td>\n",
       "      <td>64.2</td>\n",
       "      <td>0</td>\n",
       "      <td>0.0</td>\n",
       "      <td>0.0</td>\n",
       "    </tr>\n",
       "    <tr>\n",
       "      <th>1</th>\n",
       "      <td>AFG</td>\n",
       "      <td>Afghanistan</td>\n",
       "      <td>1968</td>\n",
       "      <td>5</td>\n",
       "      <td>5</td>\n",
       "      <td>23.2</td>\n",
       "      <td>170.2</td>\n",
       "      <td>70.0</td>\n",
       "      <td>0</td>\n",
       "      <td>0.0</td>\n",
       "      <td>0.0</td>\n",
       "    </tr>\n",
       "    <tr>\n",
       "      <th>2</th>\n",
       "      <td>AFG</td>\n",
       "      <td>Afghanistan</td>\n",
       "      <td>1972</td>\n",
       "      <td>8</td>\n",
       "      <td>8</td>\n",
       "      <td>29.0</td>\n",
       "      <td>168.3</td>\n",
       "      <td>63.8</td>\n",
       "      <td>0</td>\n",
       "      <td>0.0</td>\n",
       "      <td>0.0</td>\n",
       "    </tr>\n",
       "    <tr>\n",
       "      <th>3</th>\n",
       "      <td>AFG</td>\n",
       "      <td>Afghanistan</td>\n",
       "      <td>1980</td>\n",
       "      <td>11</td>\n",
       "      <td>11</td>\n",
       "      <td>23.6</td>\n",
       "      <td>168.4</td>\n",
       "      <td>63.2</td>\n",
       "      <td>0</td>\n",
       "      <td>0.0</td>\n",
       "      <td>0.0</td>\n",
       "    </tr>\n",
       "    <tr>\n",
       "      <th>4</th>\n",
       "      <td>AFG</td>\n",
       "      <td>Afghanistan</td>\n",
       "      <td>2004</td>\n",
       "      <td>5</td>\n",
       "      <td>5</td>\n",
       "      <td>18.6</td>\n",
       "      <td>170.8</td>\n",
       "      <td>64.8</td>\n",
       "      <td>0</td>\n",
       "      <td>0.0</td>\n",
       "      <td>0.0</td>\n",
       "    </tr>\n",
       "    <tr>\n",
       "      <th>...</th>\n",
       "      <td>...</td>\n",
       "      <td>...</td>\n",
       "      <td>...</td>\n",
       "      <td>...</td>\n",
       "      <td>...</td>\n",
       "      <td>...</td>\n",
       "      <td>...</td>\n",
       "      <td>...</td>\n",
       "      <td>...</td>\n",
       "      <td>...</td>\n",
       "      <td>...</td>\n",
       "    </tr>\n",
       "    <tr>\n",
       "      <th>2139</th>\n",
       "      <td>ZIM</td>\n",
       "      <td>Zimbabwe</td>\n",
       "      <td>2000</td>\n",
       "      <td>19</td>\n",
       "      <td>26</td>\n",
       "      <td>25.0</td>\n",
       "      <td>179.0</td>\n",
       "      <td>71.1</td>\n",
       "      <td>0</td>\n",
       "      <td>0.0</td>\n",
       "      <td>0.0</td>\n",
       "    </tr>\n",
       "    <tr>\n",
       "      <th>2140</th>\n",
       "      <td>ZIM</td>\n",
       "      <td>Zimbabwe</td>\n",
       "      <td>2004</td>\n",
       "      <td>11</td>\n",
       "      <td>14</td>\n",
       "      <td>25.1</td>\n",
       "      <td>177.8</td>\n",
       "      <td>70.5</td>\n",
       "      <td>3</td>\n",
       "      <td>0.0</td>\n",
       "      <td>0.0</td>\n",
       "    </tr>\n",
       "    <tr>\n",
       "      <th>2141</th>\n",
       "      <td>ZIM</td>\n",
       "      <td>Zimbabwe</td>\n",
       "      <td>2008</td>\n",
       "      <td>15</td>\n",
       "      <td>16</td>\n",
       "      <td>26.1</td>\n",
       "      <td>171.9</td>\n",
       "      <td>63.7</td>\n",
       "      <td>4</td>\n",
       "      <td>3.0</td>\n",
       "      <td>1.0</td>\n",
       "    </tr>\n",
       "    <tr>\n",
       "      <th>2142</th>\n",
       "      <td>ZIM</td>\n",
       "      <td>Zimbabwe</td>\n",
       "      <td>2012</td>\n",
       "      <td>8</td>\n",
       "      <td>9</td>\n",
       "      <td>27.3</td>\n",
       "      <td>174.4</td>\n",
       "      <td>65.2</td>\n",
       "      <td>0</td>\n",
       "      <td>4.0</td>\n",
       "      <td>2.3</td>\n",
       "    </tr>\n",
       "    <tr>\n",
       "      <th>2143</th>\n",
       "      <td>ZIM</td>\n",
       "      <td>Zimbabwe</td>\n",
       "      <td>2016</td>\n",
       "      <td>13</td>\n",
       "      <td>31</td>\n",
       "      <td>27.5</td>\n",
       "      <td>167.8</td>\n",
       "      <td>62.2</td>\n",
       "      <td>0</td>\n",
       "      <td>0.0</td>\n",
       "      <td>2.3</td>\n",
       "    </tr>\n",
       "  </tbody>\n",
       "</table>\n",
       "<p>2144 rows × 11 columns</p>\n",
       "</div>"
      ],
      "text/plain": [
       "     team      country  year  events  athletes   age  height  weight  medals  \\\n",
       "0     AFG  Afghanistan  1964       8         8  22.0   161.0    64.2       0   \n",
       "1     AFG  Afghanistan  1968       5         5  23.2   170.2    70.0       0   \n",
       "2     AFG  Afghanistan  1972       8         8  29.0   168.3    63.8       0   \n",
       "3     AFG  Afghanistan  1980      11        11  23.6   168.4    63.2       0   \n",
       "4     AFG  Afghanistan  2004       5         5  18.6   170.8    64.8       0   \n",
       "...   ...          ...   ...     ...       ...   ...     ...     ...     ...   \n",
       "2139  ZIM     Zimbabwe  2000      19        26  25.0   179.0    71.1       0   \n",
       "2140  ZIM     Zimbabwe  2004      11        14  25.1   177.8    70.5       3   \n",
       "2141  ZIM     Zimbabwe  2008      15        16  26.1   171.9    63.7       4   \n",
       "2142  ZIM     Zimbabwe  2012       8         9  27.3   174.4    65.2       0   \n",
       "2143  ZIM     Zimbabwe  2016      13        31  27.5   167.8    62.2       0   \n",
       "\n",
       "      prev_medals  prev_3_medals  \n",
       "0             0.0            0.0  \n",
       "1             0.0            0.0  \n",
       "2             0.0            0.0  \n",
       "3             0.0            0.0  \n",
       "4             0.0            0.0  \n",
       "...           ...            ...  \n",
       "2139          0.0            0.0  \n",
       "2140          0.0            0.0  \n",
       "2141          3.0            1.0  \n",
       "2142          4.0            2.3  \n",
       "2143          0.0            2.3  \n",
       "\n",
       "[2144 rows x 11 columns]"
      ]
     },
     "execution_count": 68,
     "metadata": {},
     "output_type": "execute_result"
    }
   ],
   "source": [
    "teams"
   ]
  },
  {
   "cell_type": "code",
   "execution_count": 69,
   "metadata": {},
   "outputs": [],
   "source": [
    "teams = teams[[\"team\", \"country\", \"year\", \"athletes\", \"age\", \"prev_medals\", \"medals\"]]"
   ]
  },
  {
   "cell_type": "code",
   "execution_count": 70,
   "metadata": {},
   "outputs": [
    {
     "data": {
      "text/html": [
       "<div>\n",
       "<style scoped>\n",
       "    .dataframe tbody tr th:only-of-type {\n",
       "        vertical-align: middle;\n",
       "    }\n",
       "\n",
       "    .dataframe tbody tr th {\n",
       "        vertical-align: top;\n",
       "    }\n",
       "\n",
       "    .dataframe thead th {\n",
       "        text-align: right;\n",
       "    }\n",
       "</style>\n",
       "<table border=\"1\" class=\"dataframe\">\n",
       "  <thead>\n",
       "    <tr style=\"text-align: right;\">\n",
       "      <th></th>\n",
       "      <th>team</th>\n",
       "      <th>country</th>\n",
       "      <th>year</th>\n",
       "      <th>athletes</th>\n",
       "      <th>age</th>\n",
       "      <th>prev_medals</th>\n",
       "      <th>medals</th>\n",
       "    </tr>\n",
       "  </thead>\n",
       "  <tbody>\n",
       "    <tr>\n",
       "      <th>0</th>\n",
       "      <td>AFG</td>\n",
       "      <td>Afghanistan</td>\n",
       "      <td>1964</td>\n",
       "      <td>8</td>\n",
       "      <td>22.0</td>\n",
       "      <td>0.0</td>\n",
       "      <td>0</td>\n",
       "    </tr>\n",
       "    <tr>\n",
       "      <th>1</th>\n",
       "      <td>AFG</td>\n",
       "      <td>Afghanistan</td>\n",
       "      <td>1968</td>\n",
       "      <td>5</td>\n",
       "      <td>23.2</td>\n",
       "      <td>0.0</td>\n",
       "      <td>0</td>\n",
       "    </tr>\n",
       "    <tr>\n",
       "      <th>2</th>\n",
       "      <td>AFG</td>\n",
       "      <td>Afghanistan</td>\n",
       "      <td>1972</td>\n",
       "      <td>8</td>\n",
       "      <td>29.0</td>\n",
       "      <td>0.0</td>\n",
       "      <td>0</td>\n",
       "    </tr>\n",
       "    <tr>\n",
       "      <th>3</th>\n",
       "      <td>AFG</td>\n",
       "      <td>Afghanistan</td>\n",
       "      <td>1980</td>\n",
       "      <td>11</td>\n",
       "      <td>23.6</td>\n",
       "      <td>0.0</td>\n",
       "      <td>0</td>\n",
       "    </tr>\n",
       "    <tr>\n",
       "      <th>4</th>\n",
       "      <td>AFG</td>\n",
       "      <td>Afghanistan</td>\n",
       "      <td>2004</td>\n",
       "      <td>5</td>\n",
       "      <td>18.6</td>\n",
       "      <td>0.0</td>\n",
       "      <td>0</td>\n",
       "    </tr>\n",
       "    <tr>\n",
       "      <th>...</th>\n",
       "      <td>...</td>\n",
       "      <td>...</td>\n",
       "      <td>...</td>\n",
       "      <td>...</td>\n",
       "      <td>...</td>\n",
       "      <td>...</td>\n",
       "      <td>...</td>\n",
       "    </tr>\n",
       "    <tr>\n",
       "      <th>2139</th>\n",
       "      <td>ZIM</td>\n",
       "      <td>Zimbabwe</td>\n",
       "      <td>2000</td>\n",
       "      <td>26</td>\n",
       "      <td>25.0</td>\n",
       "      <td>0.0</td>\n",
       "      <td>0</td>\n",
       "    </tr>\n",
       "    <tr>\n",
       "      <th>2140</th>\n",
       "      <td>ZIM</td>\n",
       "      <td>Zimbabwe</td>\n",
       "      <td>2004</td>\n",
       "      <td>14</td>\n",
       "      <td>25.1</td>\n",
       "      <td>0.0</td>\n",
       "      <td>3</td>\n",
       "    </tr>\n",
       "    <tr>\n",
       "      <th>2141</th>\n",
       "      <td>ZIM</td>\n",
       "      <td>Zimbabwe</td>\n",
       "      <td>2008</td>\n",
       "      <td>16</td>\n",
       "      <td>26.1</td>\n",
       "      <td>3.0</td>\n",
       "      <td>4</td>\n",
       "    </tr>\n",
       "    <tr>\n",
       "      <th>2142</th>\n",
       "      <td>ZIM</td>\n",
       "      <td>Zimbabwe</td>\n",
       "      <td>2012</td>\n",
       "      <td>9</td>\n",
       "      <td>27.3</td>\n",
       "      <td>4.0</td>\n",
       "      <td>0</td>\n",
       "    </tr>\n",
       "    <tr>\n",
       "      <th>2143</th>\n",
       "      <td>ZIM</td>\n",
       "      <td>Zimbabwe</td>\n",
       "      <td>2016</td>\n",
       "      <td>31</td>\n",
       "      <td>27.5</td>\n",
       "      <td>0.0</td>\n",
       "      <td>0</td>\n",
       "    </tr>\n",
       "  </tbody>\n",
       "</table>\n",
       "<p>2144 rows × 7 columns</p>\n",
       "</div>"
      ],
      "text/plain": [
       "     team      country  year  athletes   age  prev_medals  medals\n",
       "0     AFG  Afghanistan  1964         8  22.0          0.0       0\n",
       "1     AFG  Afghanistan  1968         5  23.2          0.0       0\n",
       "2     AFG  Afghanistan  1972         8  29.0          0.0       0\n",
       "3     AFG  Afghanistan  1980        11  23.6          0.0       0\n",
       "4     AFG  Afghanistan  2004         5  18.6          0.0       0\n",
       "...   ...          ...   ...       ...   ...          ...     ...\n",
       "2139  ZIM     Zimbabwe  2000        26  25.0          0.0       0\n",
       "2140  ZIM     Zimbabwe  2004        14  25.1          0.0       3\n",
       "2141  ZIM     Zimbabwe  2008        16  26.1          3.0       4\n",
       "2142  ZIM     Zimbabwe  2012         9  27.3          4.0       0\n",
       "2143  ZIM     Zimbabwe  2016        31  27.5          0.0       0\n",
       "\n",
       "[2144 rows x 7 columns]"
      ]
     },
     "execution_count": 70,
     "metadata": {},
     "output_type": "execute_result"
    }
   ],
   "source": [
    "teams"
   ]
  },
  {
   "cell_type": "code",
   "execution_count": 71,
   "metadata": {},
   "outputs": [
    {
     "data": {
      "text/plain": [
       "year          -0.021603\n",
       "athletes       0.840817\n",
       "age            0.025096\n",
       "prev_medals    0.920048\n",
       "medals         1.000000\n",
       "Name: medals, dtype: float64"
      ]
     },
     "execution_count": 71,
     "metadata": {},
     "output_type": "execute_result"
    }
   ],
   "source": [
    "# athletes and prev_medals impact medals\n",
    "teams.corr()[\"medals\"]"
   ]
  },
  {
   "cell_type": "code",
   "execution_count": 72,
   "metadata": {},
   "outputs": [],
   "source": [
    "import seaborn as sns"
   ]
  },
  {
   "cell_type": "code",
   "execution_count": 73,
   "metadata": {},
   "outputs": [
    {
     "data": {
      "text/plain": [
       "<seaborn.axisgrid.FacetGrid at 0x1aef7be1670>"
      ]
     },
     "execution_count": 73,
     "metadata": {},
     "output_type": "execute_result"
    }
   ],
   "source": [
    "sns.lmplot(x=\"athletes\", y=\"medals\", data=teams, fit_reg=True, ci=None)"
   ]
  },
  {
   "cell_type": "code",
   "execution_count": 74,
   "metadata": {},
   "outputs": [
    {
     "data": {
      "text/plain": [
       "<seaborn.axisgrid.FacetGrid at 0x1aef6cc0850>"
      ]
     },
     "execution_count": 74,
     "metadata": {},
     "output_type": "execute_result"
    }
   ],
   "source": [
    "sns.lmplot(x=\"age\", y=\"medals\", data=teams, fit_reg=True, ci=None)"
   ]
  },
  {
   "cell_type": "code",
   "execution_count": 75,
   "metadata": {},
   "outputs": [
    {
     "data": {
      "text/plain": [
       "<Axes: ylabel='Frequency'>"
      ]
     },
     "execution_count": 75,
     "metadata": {},
     "output_type": "execute_result"
    }
   ],
   "source": [
    "teams.plot.hist(y=\"medals\")"
   ]
  },
  {
   "cell_type": "code",
   "execution_count": 76,
   "metadata": {},
   "outputs": [
    {
     "data": {
      "text/html": [
       "<div>\n",
       "<style scoped>\n",
       "    .dataframe tbody tr th:only-of-type {\n",
       "        vertical-align: middle;\n",
       "    }\n",
       "\n",
       "    .dataframe tbody tr th {\n",
       "        vertical-align: top;\n",
       "    }\n",
       "\n",
       "    .dataframe thead th {\n",
       "        text-align: right;\n",
       "    }\n",
       "</style>\n",
       "<table border=\"1\" class=\"dataframe\">\n",
       "  <thead>\n",
       "    <tr style=\"text-align: right;\">\n",
       "      <th></th>\n",
       "      <th>team</th>\n",
       "      <th>country</th>\n",
       "      <th>year</th>\n",
       "      <th>athletes</th>\n",
       "      <th>age</th>\n",
       "      <th>prev_medals</th>\n",
       "      <th>medals</th>\n",
       "    </tr>\n",
       "  </thead>\n",
       "  <tbody>\n",
       "    <tr>\n",
       "      <th>19</th>\n",
       "      <td>ALB</td>\n",
       "      <td>Albania</td>\n",
       "      <td>1992</td>\n",
       "      <td>9</td>\n",
       "      <td>25.3</td>\n",
       "      <td>NaN</td>\n",
       "      <td>0</td>\n",
       "    </tr>\n",
       "    <tr>\n",
       "      <th>26</th>\n",
       "      <td>ALG</td>\n",
       "      <td>Algeria</td>\n",
       "      <td>1964</td>\n",
       "      <td>7</td>\n",
       "      <td>26.0</td>\n",
       "      <td>NaN</td>\n",
       "      <td>0</td>\n",
       "    </tr>\n",
       "    <tr>\n",
       "      <th>39</th>\n",
       "      <td>AND</td>\n",
       "      <td>Andorra</td>\n",
       "      <td>1976</td>\n",
       "      <td>3</td>\n",
       "      <td>28.3</td>\n",
       "      <td>NaN</td>\n",
       "      <td>0</td>\n",
       "    </tr>\n",
       "    <tr>\n",
       "      <th>50</th>\n",
       "      <td>ANG</td>\n",
       "      <td>Angola</td>\n",
       "      <td>1980</td>\n",
       "      <td>17</td>\n",
       "      <td>17.4</td>\n",
       "      <td>NaN</td>\n",
       "      <td>0</td>\n",
       "    </tr>\n",
       "    <tr>\n",
       "      <th>59</th>\n",
       "      <td>ANT</td>\n",
       "      <td>Antigua and Barbuda</td>\n",
       "      <td>1976</td>\n",
       "      <td>17</td>\n",
       "      <td>23.2</td>\n",
       "      <td>NaN</td>\n",
       "      <td>0</td>\n",
       "    </tr>\n",
       "    <tr>\n",
       "      <th>...</th>\n",
       "      <td>...</td>\n",
       "      <td>...</td>\n",
       "      <td>...</td>\n",
       "      <td>...</td>\n",
       "      <td>...</td>\n",
       "      <td>...</td>\n",
       "      <td>...</td>\n",
       "    </tr>\n",
       "    <tr>\n",
       "      <th>2092</th>\n",
       "      <td>VIN</td>\n",
       "      <td>Saint Vincent and the Grenadines</td>\n",
       "      <td>1988</td>\n",
       "      <td>6</td>\n",
       "      <td>20.5</td>\n",
       "      <td>NaN</td>\n",
       "      <td>0</td>\n",
       "    </tr>\n",
       "    <tr>\n",
       "      <th>2103</th>\n",
       "      <td>YAR</td>\n",
       "      <td>North Yemen</td>\n",
       "      <td>1984</td>\n",
       "      <td>3</td>\n",
       "      <td>27.7</td>\n",
       "      <td>NaN</td>\n",
       "      <td>0</td>\n",
       "    </tr>\n",
       "    <tr>\n",
       "      <th>2105</th>\n",
       "      <td>YEM</td>\n",
       "      <td>Yemen</td>\n",
       "      <td>1992</td>\n",
       "      <td>8</td>\n",
       "      <td>19.6</td>\n",
       "      <td>NaN</td>\n",
       "      <td>0</td>\n",
       "    </tr>\n",
       "    <tr>\n",
       "      <th>2112</th>\n",
       "      <td>YMD</td>\n",
       "      <td>South Yemen</td>\n",
       "      <td>1988</td>\n",
       "      <td>5</td>\n",
       "      <td>23.6</td>\n",
       "      <td>NaN</td>\n",
       "      <td>0</td>\n",
       "    </tr>\n",
       "    <tr>\n",
       "      <th>2120</th>\n",
       "      <td>ZAM</td>\n",
       "      <td>Zambia</td>\n",
       "      <td>1964</td>\n",
       "      <td>15</td>\n",
       "      <td>21.7</td>\n",
       "      <td>NaN</td>\n",
       "      <td>0</td>\n",
       "    </tr>\n",
       "  </tbody>\n",
       "</table>\n",
       "<p>130 rows × 7 columns</p>\n",
       "</div>"
      ],
      "text/plain": [
       "     team                           country  year  athletes   age  \\\n",
       "19    ALB                           Albania  1992         9  25.3   \n",
       "26    ALG                           Algeria  1964         7  26.0   \n",
       "39    AND                           Andorra  1976         3  28.3   \n",
       "50    ANG                            Angola  1980        17  17.4   \n",
       "59    ANT               Antigua and Barbuda  1976        17  23.2   \n",
       "...   ...                               ...   ...       ...   ...   \n",
       "2092  VIN  Saint Vincent and the Grenadines  1988         6  20.5   \n",
       "2103  YAR                       North Yemen  1984         3  27.7   \n",
       "2105  YEM                             Yemen  1992         8  19.6   \n",
       "2112  YMD                       South Yemen  1988         5  23.6   \n",
       "2120  ZAM                            Zambia  1964        15  21.7   \n",
       "\n",
       "      prev_medals  medals  \n",
       "19            NaN       0  \n",
       "26            NaN       0  \n",
       "39            NaN       0  \n",
       "50            NaN       0  \n",
       "59            NaN       0  \n",
       "...           ...     ...  \n",
       "2092          NaN       0  \n",
       "2103          NaN       0  \n",
       "2105          NaN       0  \n",
       "2112          NaN       0  \n",
       "2120          NaN       0  \n",
       "\n",
       "[130 rows x 7 columns]"
      ]
     },
     "execution_count": 76,
     "metadata": {},
     "output_type": "execute_result"
    }
   ],
   "source": [
    "teams[teams.isnull().any(axis=1)]"
   ]
  },
  {
   "cell_type": "code",
   "execution_count": 77,
   "metadata": {},
   "outputs": [],
   "source": [
    "# dropping rows with missing values\n",
    "teams=teams.dropna()"
   ]
  },
  {
   "cell_type": "code",
   "execution_count": 78,
   "metadata": {},
   "outputs": [
    {
     "data": {
      "text/plain": [
       "(2014, 7)"
      ]
     },
     "execution_count": 78,
     "metadata": {},
     "output_type": "execute_result"
    }
   ],
   "source": [
    "teams.shape"
   ]
  },
  {
   "cell_type": "code",
   "execution_count": 79,
   "metadata": {},
   "outputs": [],
   "source": [
    "train = teams[teams[\"year\"] < 2012].copy()\n",
    "test = teams[teams[\"year\"] >= 2012].copy()"
   ]
  },
  {
   "cell_type": "code",
   "execution_count": 80,
   "metadata": {},
   "outputs": [
    {
     "data": {
      "text/plain": [
       "(1609, 7)"
      ]
     },
     "execution_count": 80,
     "metadata": {},
     "output_type": "execute_result"
    }
   ],
   "source": [
    "train.shape"
   ]
  },
  {
   "cell_type": "code",
   "execution_count": 81,
   "metadata": {},
   "outputs": [
    {
     "data": {
      "text/plain": [
       "(405, 7)"
      ]
     },
     "execution_count": 81,
     "metadata": {},
     "output_type": "execute_result"
    }
   ],
   "source": [
    "test.shape"
   ]
  },
  {
   "cell_type": "code",
   "execution_count": 82,
   "metadata": {},
   "outputs": [],
   "source": [
    "from sklearn.linear_model import LinearRegression\n",
    "\n",
    "reg = LinearRegression()"
   ]
  },
  {
   "cell_type": "code",
   "execution_count": 83,
   "metadata": {},
   "outputs": [],
   "source": [
    "predictors = [\"athletes\", \"prev_medals\"]\n",
    "target = \"medals\""
   ]
  },
  {
   "cell_type": "code",
   "execution_count": 84,
   "metadata": {},
   "outputs": [
    {
     "data": {
      "text/plain": [
       "LinearRegression()"
      ]
     },
     "execution_count": 84,
     "metadata": {},
     "output_type": "execute_result"
    }
   ],
   "source": [
    "reg.fit(train[predictors], train[\"medals\"])"
   ]
  },
  {
   "cell_type": "code",
   "execution_count": 85,
   "metadata": {},
   "outputs": [],
   "source": [
    "predictions = reg.predict(test[predictors])"
   ]
  },
  {
   "cell_type": "code",
   "execution_count": 86,
   "metadata": {},
   "outputs": [
    {
     "data": {
      "text/plain": [
       "array([-9.61221245e-01, -1.17633261e+00, -1.42503158e+00, -1.71184673e+00,\n",
       "        2.15562926e+00,  3.91463636e+00, -1.71184673e+00, -1.85525431e+00,\n",
       "        3.67563128e-01, -2.77770967e-01, -1.85525431e+00, -1.49673537e+00,\n",
       "        4.67519911e+01,  2.87550937e+01,  4.58450091e+00,  2.54773581e+00,\n",
       "       -1.85525431e+00, -1.64014295e+00, -1.85525431e+00, -1.85525431e+00,\n",
       "        1.46556876e+02,  1.20571799e+02,  6.56314795e+00,  3.95275254e+00,\n",
       "        7.34283247e+00,  1.03117468e+01,  5.19171882e+00,  3.58517645e+00,\n",
       "       -1.64014295e+00, -1.64014295e+00, -1.56843916e+00, -1.20992022e+00,\n",
       "       -1.71184673e+00, -1.42503158e+00,  1.17929959e+01,  1.00049298e+01,\n",
       "       -1.78355052e+00, -1.71184673e+00, -1.56843916e+00, -1.56843916e+00,\n",
       "       -1.99866189e+00, -1.99866189e+00, -1.56843916e+00, -1.35332779e+00,\n",
       "       -1.92695810e+00, -1.92695810e+00,  3.28912706e+01,  2.53042547e+01,\n",
       "       -1.78355052e+00, -1.28162400e+00, -1.85525431e+00, -3.87590939e-01,\n",
       "        7.83480779e+01,  8.39481430e+01, -1.13821643e+00,  9.74781040e-01,\n",
       "       -1.92695810e+00, -1.92695810e+00,  6.98884211e+00,  3.51800124e+00,\n",
       "       -1.78355052e+00, -1.78355052e+00, -1.71184673e+00, -1.71184673e+00,\n",
       "       -1.71184673e+00, -1.71184673e+00,  4.95129637e+01,  6.81823667e+01,\n",
       "       -1.64014295e+00, -1.78355052e+00, -1.64014295e+00, -1.42503158e+00,\n",
       "       -1.99866189e+00, -1.99866189e+00,  1.76352271e+00,  1.22800859e+00,\n",
       "        1.70319135e+02,  1.27466307e+02, -1.42503158e+00, -1.06651264e+00,\n",
       "        9.03077251e-01, -5.64586121e-01, -1.85525431e+00, -1.85525431e+00,\n",
       "       -1.49673537e+00, -1.49673537e+00,  7.96363611e+00,  1.51204292e+01,\n",
       "       -1.92695810e+00, -1.85525431e+00, -1.92695810e+00, -1.78355052e+00,\n",
       "       -1.35332779e+00, -1.28162400e+00,  1.00721050e+01,  3.07982750e+01,\n",
       "        4.15983755e+01,  1.86203291e+01, -1.20992022e+00,  1.14335580e-01,\n",
       "        1.45132113e+01,  1.80466988e+01,  2.28036793e+01,  2.01215801e+01,\n",
       "       -1.85525431e+00, -1.56843916e+00, -1.99866189e+00, -1.99866189e+00,\n",
       "        1.94051789e+00,  1.51029516e+00,  1.18989240e+00,  7.26082069e-01,\n",
       "        8.07345608e+00,  9.18260052e+00, -1.28162400e+00, -1.28162400e+00,\n",
       "       -1.35332779e+00, -1.42503158e+00,  7.47092990e+01,  7.11758115e+01,\n",
       "        2.69114338e+00,  2.87266714e+00,  5.55023776e+00,  5.83705291e+00,\n",
       "       -1.49673537e+00,  1.65823132e+00,  6.55861938e+00,  6.41521180e+00,\n",
       "        8.62019070e+01,  9.61215602e+01, -1.71184673e+00, -1.78355052e+00,\n",
       "       -6.36289909e-01, -9.61221245e-01, -1.99866189e+00,  1.07703986e+02,\n",
       "        1.26711153e+02, -1.85525431e+00, -1.78355052e+00,  4.94301985e+00,\n",
       "        6.33897943e+00, -1.99866189e+00, -2.07036568e+00,  1.08738786e+02,\n",
       "        1.06849957e+02, -1.64014295e+00, -1.06651264e+00,  1.13582446e+01,\n",
       "        7.56700099e+00, -1.56843916e+00, -9.61221245e-01, -4.21178544e-01,\n",
       "        4.01150733e-01, -1.85525431e+00, -1.78355052e+00, -1.56843916e+00,\n",
       "       -1.78355052e+00, -1.71184673e+00, -1.64014295e+00, -1.78355052e+00,\n",
       "       -1.42503158e+00,  1.80163889e+00,  1.97863408e+00, -3.49474756e-01,\n",
       "       -4.92882332e-01,  3.25372802e+01,  3.20017661e+01,  4.68979230e+00,\n",
       "        1.58199895e+00,  6.92166689e+00,  1.16831760e+01, -1.85525431e+00,\n",
       "       -1.49673537e+00,  3.44629745e+00,  1.16695902e+01,  5.55929492e+00,\n",
       "        8.27951030e+00, -1.56843916e+00, -7.07993697e-01,  1.09480238e+01,\n",
       "       -1.13821643e+00,  2.62396817e+00,  2.08845405e+00, -1.49673537e+00,\n",
       "       -1.64014295e+00,  5.67750482e+01,  7.75102753e+01, -1.99866189e+00,\n",
       "       -1.85525431e+00,  1.28123223e+01,  2.21447595e+01, -1.49673537e+00,\n",
       "       -1.56843916e+00,  6.47496420e+01,  9.21733233e+01,  1.70809620e+01,\n",
       "        1.64356279e+01,  1.27742061e+01,  1.18511140e+01,  4.34738339e-01,\n",
       "       -7.79697486e-01, -1.92695810e+00, -1.92695810e+00,  7.87783006e+01,\n",
       "        6.25041817e+01, -4.92882332e-01,  1.64917416e+00, -1.28162400e+00,\n",
       "       -1.92695810e+00, -1.78355052e+00,  3.69499642e+00,  2.47603202e+00,\n",
       "       -1.85525431e+00, -1.64014295e+00, -1.92695810e+00, -1.85525431e+00,\n",
       "       -1.78355052e+00, -1.85525431e+00, -1.49673537e+00, -1.42503158e+00,\n",
       "       -1.49673537e+00, -1.85525431e+00, -1.92695810e+00,  6.77373074e+00,\n",
       "        7.34736105e+00, -1.35332779e+00, -1.06651264e+00, -1.64014295e+00,\n",
       "       -1.71184673e+00,  4.16333533e+00,  2.33715302e+00,  1.33329998e+00,\n",
       "        2.37074062e+00, -1.92695810e+00, -1.78355052e+00,  4.26317914e-02,\n",
       "        1.00836865e+00, -1.78355052e+00, -1.85525431e+00,  9.39318330e+00,\n",
       "        2.58397688e+01,  3.15495372e+00,  4.90943224e+00, -1.85525431e+00,\n",
       "       -1.78355052e+00, -1.85525431e+00, -1.71184673e+00, -1.71184673e+00,\n",
       "       -1.71184673e+00, -1.78355052e+00, -1.56843916e+00,  2.95859339e-01,\n",
       "        1.08763200e+01, -1.71184673e+00, -1.56843916e+00, -1.71184673e+00,\n",
       "       -1.56843916e+00, -6.02702304e-01, -1.35332779e+00, -1.99866189e+00,\n",
       "       -1.99866189e+00, -1.71184673e+00, -1.56843916e+00, -1.49673537e+00,\n",
       "       -1.35332779e+00, -1.71184673e+00, -1.78355052e+00,  5.95643264e+01,\n",
       "        7.32416356e+01, -1.78355052e+00, -1.64014295e+00,  1.92811365e+01,\n",
       "        3.37912224e+00, -1.71184673e+00, -1.71184673e+00,  1.93192527e+01,\n",
       "        1.61397555e+01, -1.99866189e+00, -1.99866189e+00,  2.37448857e+01,\n",
       "        3.47600976e+01, -1.92695810e+00, -1.85525431e+00, -6.36289909e-01,\n",
       "       -1.64014295e+00, -8.17813669e-01, -1.13821643e+00, -1.42503158e+00,\n",
       "       -1.35332779e+00, -9.94808851e-01,  2.95859339e-01, -1.35332779e+00,\n",
       "       -1.20992022e+00, -1.78355052e+00, -1.71184673e+00, -1.78355052e+00,\n",
       "       -1.71184673e+00, -1.56843916e+00, -1.56843916e+00,  3.12266101e+01,\n",
       "        2.75878312e+01,  6.38615277e+00,  6.95978308e+00,  6.44879940e+00,\n",
       "        5.08642743e+00, -1.34363391e-01,  2.29903684e+00, -1.13821643e+00,\n",
       "        2.37074062e+00,  2.54857785e+01,  1.85440967e+01,  9.00560533e+00,\n",
       "        1.57276471e+01,  1.43812130e+02,  1.32057237e+02, -1.64014295e+00,\n",
       "       -1.64014295e+00, -1.49673537e+00, -1.49673537e+00,  1.52451763e-01,\n",
       "       -5.64586121e-01, -1.71184673e+00, -1.42503158e+00,  2.69114338e+00,\n",
       "        3.15495372e+00, -1.64014295e+00, -1.49673537e+00, -1.99866189e+00,\n",
       "       -1.85525431e+00,  7.20395347e+00,  6.63032316e+00, -1.85525431e+00,\n",
       "       -1.85525431e+00, -1.85525431e+00, -1.92695810e+00,  1.87256205e+01,\n",
       "        1.89743195e+01, -1.56843916e+00, -1.42503158e+00, -1.99866189e+00,\n",
       "       -1.92695810e+00, -9.61221245e-01, -1.71184673e+00,  1.51494882e+01,\n",
       "        1.17594083e+01, -1.78355052e+00, -1.71184673e+00,  1.00249317e+01,\n",
       "        6.12839665e+00,  1.51585454e+01,  2.77085959e+01, -1.92695810e+00,\n",
       "       -1.99866189e+00, -1.42503158e+00, -1.64014295e+00, -1.71184673e+00,\n",
       "       -1.64014295e+00, -1.92695810e+00, -1.64014295e+00,  3.94369539e+00,\n",
       "        4.26862673e+00,  5.06442127e-01, -8.89517457e-01, -1.42503158e+00,\n",
       "       -1.49673537e+00, -1.99866189e+00, -1.92695810e+00, -9.61221245e-01,\n",
       "       -1.78355052e+00,  4.80414085e+00,  4.16333533e+00,  5.08642743e+00,\n",
       "        8.44744832e+00,  4.84678561e+00,  4.77055324e+00,  1.16450598e+01,\n",
       "        1.01438088e+01, -1.92695810e+00, -2.07036568e+00, -2.77770967e-01,\n",
       "       -1.28162400e+00, -9.94808851e-01,  2.57743156e-01,  4.29252723e+01,\n",
       "        3.68776237e+01, -2.06067179e-01, -9.23105062e-01,  2.85210121e+02,\n",
       "        2.35568076e+02,  6.37709562e+00,  5.84611007e+00, -1.78355052e+00,\n",
       "       -1.85525431e+00,  4.70337803e+00,  6.13745380e+00,  3.29446945e-01,\n",
       "       -1.34363391e-01, -1.92695810e+00, -1.85525431e+00, -1.85525431e+00,\n",
       "       -1.92695810e+00, -1.64014295e+00, -1.64014295e+00,  1.50576659e+00,\n",
       "        8.07479743e-02])"
      ]
     },
     "execution_count": 86,
     "metadata": {},
     "output_type": "execute_result"
    }
   ],
   "source": [
    "predictions"
   ]
  },
  {
   "cell_type": "code",
   "execution_count": 89,
   "metadata": {},
   "outputs": [],
   "source": [
    "test[\"predictions\"] = predictions"
   ]
  },
  {
   "cell_type": "code",
   "execution_count": 90,
   "metadata": {},
   "outputs": [],
   "source": [
    "test.loc[test[\"predictions\"] < 0, \"predictions\"] = 0"
   ]
  },
  {
   "cell_type": "code",
   "execution_count": 92,
   "metadata": {},
   "outputs": [],
   "source": [
    "test[\"predictions\"] = test[\"predictions\"].round()"
   ]
  },
  {
   "cell_type": "code",
   "execution_count": 93,
   "metadata": {},
   "outputs": [
    {
     "data": {
      "text/html": [
       "<div>\n",
       "<style scoped>\n",
       "    .dataframe tbody tr th:only-of-type {\n",
       "        vertical-align: middle;\n",
       "    }\n",
       "\n",
       "    .dataframe tbody tr th {\n",
       "        vertical-align: top;\n",
       "    }\n",
       "\n",
       "    .dataframe thead th {\n",
       "        text-align: right;\n",
       "    }\n",
       "</style>\n",
       "<table border=\"1\" class=\"dataframe\">\n",
       "  <thead>\n",
       "    <tr style=\"text-align: right;\">\n",
       "      <th></th>\n",
       "      <th>team</th>\n",
       "      <th>country</th>\n",
       "      <th>year</th>\n",
       "      <th>athletes</th>\n",
       "      <th>age</th>\n",
       "      <th>prev_medals</th>\n",
       "      <th>medals</th>\n",
       "      <th>predictions</th>\n",
       "    </tr>\n",
       "  </thead>\n",
       "  <tbody>\n",
       "    <tr>\n",
       "      <th>6</th>\n",
       "      <td>AFG</td>\n",
       "      <td>Afghanistan</td>\n",
       "      <td>2012</td>\n",
       "      <td>6</td>\n",
       "      <td>24.8</td>\n",
       "      <td>1.0</td>\n",
       "      <td>1</td>\n",
       "      <td>0.0</td>\n",
       "    </tr>\n",
       "    <tr>\n",
       "      <th>7</th>\n",
       "      <td>AFG</td>\n",
       "      <td>Afghanistan</td>\n",
       "      <td>2016</td>\n",
       "      <td>3</td>\n",
       "      <td>24.7</td>\n",
       "      <td>1.0</td>\n",
       "      <td>0</td>\n",
       "      <td>0.0</td>\n",
       "    </tr>\n",
       "    <tr>\n",
       "      <th>24</th>\n",
       "      <td>ALB</td>\n",
       "      <td>Albania</td>\n",
       "      <td>2012</td>\n",
       "      <td>10</td>\n",
       "      <td>25.7</td>\n",
       "      <td>0.0</td>\n",
       "      <td>0</td>\n",
       "      <td>0.0</td>\n",
       "    </tr>\n",
       "    <tr>\n",
       "      <th>25</th>\n",
       "      <td>ALB</td>\n",
       "      <td>Albania</td>\n",
       "      <td>2016</td>\n",
       "      <td>6</td>\n",
       "      <td>23.7</td>\n",
       "      <td>0.0</td>\n",
       "      <td>0</td>\n",
       "      <td>0.0</td>\n",
       "    </tr>\n",
       "    <tr>\n",
       "      <th>37</th>\n",
       "      <td>ALG</td>\n",
       "      <td>Algeria</td>\n",
       "      <td>2012</td>\n",
       "      <td>39</td>\n",
       "      <td>24.8</td>\n",
       "      <td>2.0</td>\n",
       "      <td>1</td>\n",
       "      <td>2.0</td>\n",
       "    </tr>\n",
       "    <tr>\n",
       "      <th>...</th>\n",
       "      <td>...</td>\n",
       "      <td>...</td>\n",
       "      <td>...</td>\n",
       "      <td>...</td>\n",
       "      <td>...</td>\n",
       "      <td>...</td>\n",
       "      <td>...</td>\n",
       "      <td>...</td>\n",
       "    </tr>\n",
       "    <tr>\n",
       "      <th>2111</th>\n",
       "      <td>YEM</td>\n",
       "      <td>Yemen</td>\n",
       "      <td>2016</td>\n",
       "      <td>3</td>\n",
       "      <td>19.3</td>\n",
       "      <td>0.0</td>\n",
       "      <td>0</td>\n",
       "      <td>0.0</td>\n",
       "    </tr>\n",
       "    <tr>\n",
       "      <th>2131</th>\n",
       "      <td>ZAM</td>\n",
       "      <td>Zambia</td>\n",
       "      <td>2012</td>\n",
       "      <td>7</td>\n",
       "      <td>22.6</td>\n",
       "      <td>0.0</td>\n",
       "      <td>0</td>\n",
       "      <td>0.0</td>\n",
       "    </tr>\n",
       "    <tr>\n",
       "      <th>2132</th>\n",
       "      <td>ZAM</td>\n",
       "      <td>Zambia</td>\n",
       "      <td>2016</td>\n",
       "      <td>7</td>\n",
       "      <td>24.1</td>\n",
       "      <td>0.0</td>\n",
       "      <td>0</td>\n",
       "      <td>0.0</td>\n",
       "    </tr>\n",
       "    <tr>\n",
       "      <th>2142</th>\n",
       "      <td>ZIM</td>\n",
       "      <td>Zimbabwe</td>\n",
       "      <td>2012</td>\n",
       "      <td>9</td>\n",
       "      <td>27.3</td>\n",
       "      <td>4.0</td>\n",
       "      <td>0</td>\n",
       "      <td>2.0</td>\n",
       "    </tr>\n",
       "    <tr>\n",
       "      <th>2143</th>\n",
       "      <td>ZIM</td>\n",
       "      <td>Zimbabwe</td>\n",
       "      <td>2016</td>\n",
       "      <td>31</td>\n",
       "      <td>27.5</td>\n",
       "      <td>0.0</td>\n",
       "      <td>0</td>\n",
       "      <td>0.0</td>\n",
       "    </tr>\n",
       "  </tbody>\n",
       "</table>\n",
       "<p>405 rows × 8 columns</p>\n",
       "</div>"
      ],
      "text/plain": [
       "     team      country  year  athletes   age  prev_medals  medals  predictions\n",
       "6     AFG  Afghanistan  2012         6  24.8          1.0       1          0.0\n",
       "7     AFG  Afghanistan  2016         3  24.7          1.0       0          0.0\n",
       "24    ALB      Albania  2012        10  25.7          0.0       0          0.0\n",
       "25    ALB      Albania  2016         6  23.7          0.0       0          0.0\n",
       "37    ALG      Algeria  2012        39  24.8          2.0       1          2.0\n",
       "...   ...          ...   ...       ...   ...          ...     ...          ...\n",
       "2111  YEM        Yemen  2016         3  19.3          0.0       0          0.0\n",
       "2131  ZAM       Zambia  2012         7  22.6          0.0       0          0.0\n",
       "2132  ZAM       Zambia  2016         7  24.1          0.0       0          0.0\n",
       "2142  ZIM     Zimbabwe  2012         9  27.3          4.0       0          2.0\n",
       "2143  ZIM     Zimbabwe  2016        31  27.5          0.0       0          0.0\n",
       "\n",
       "[405 rows x 8 columns]"
      ]
     },
     "execution_count": 93,
     "metadata": {},
     "output_type": "execute_result"
    }
   ],
   "source": [
    "test"
   ]
  },
  {
   "cell_type": "code",
   "execution_count": 94,
   "metadata": {},
   "outputs": [],
   "source": [
    "from sklearn.metrics import mean_absolute_error\n",
    "\n",
    "error = mean_absolute_error(test[\"medals\"], test[\"predictions\"])"
   ]
  },
  {
   "cell_type": "code",
   "execution_count": 95,
   "metadata": {},
   "outputs": [
    {
     "data": {
      "text/plain": [
       "3.2987654320987656"
      ]
     },
     "execution_count": 95,
     "metadata": {},
     "output_type": "execute_result"
    }
   ],
   "source": [
    "error"
   ]
  },
  {
   "cell_type": "code",
   "execution_count": 97,
   "metadata": {},
   "outputs": [
    {
     "data": {
      "text/plain": [
       "count    2014.000000\n",
       "mean       10.990070\n",
       "std        33.627528\n",
       "min         0.000000\n",
       "25%         0.000000\n",
       "50%         0.000000\n",
       "75%         5.000000\n",
       "max       442.000000\n",
       "Name: medals, dtype: float64"
      ]
     },
     "execution_count": 97,
     "metadata": {},
     "output_type": "execute_result"
    }
   ],
   "source": [
    "teams.describe()[\"medals\"]"
   ]
  },
  {
   "cell_type": "code",
   "execution_count": 100,
   "metadata": {},
   "outputs": [
    {
     "data": {
      "text/html": [
       "<div>\n",
       "<style scoped>\n",
       "    .dataframe tbody tr th:only-of-type {\n",
       "        vertical-align: middle;\n",
       "    }\n",
       "\n",
       "    .dataframe tbody tr th {\n",
       "        vertical-align: top;\n",
       "    }\n",
       "\n",
       "    .dataframe thead th {\n",
       "        text-align: right;\n",
       "    }\n",
       "</style>\n",
       "<table border=\"1\" class=\"dataframe\">\n",
       "  <thead>\n",
       "    <tr style=\"text-align: right;\">\n",
       "      <th></th>\n",
       "      <th>team</th>\n",
       "      <th>country</th>\n",
       "      <th>year</th>\n",
       "      <th>athletes</th>\n",
       "      <th>age</th>\n",
       "      <th>prev_medals</th>\n",
       "      <th>medals</th>\n",
       "      <th>predictions</th>\n",
       "    </tr>\n",
       "  </thead>\n",
       "  <tbody>\n",
       "    <tr>\n",
       "      <th>2053</th>\n",
       "      <td>USA</td>\n",
       "      <td>United States</td>\n",
       "      <td>2012</td>\n",
       "      <td>689</td>\n",
       "      <td>26.7</td>\n",
       "      <td>317.0</td>\n",
       "      <td>248</td>\n",
       "      <td>285.0</td>\n",
       "    </tr>\n",
       "    <tr>\n",
       "      <th>2054</th>\n",
       "      <td>USA</td>\n",
       "      <td>United States</td>\n",
       "      <td>2016</td>\n",
       "      <td>719</td>\n",
       "      <td>26.4</td>\n",
       "      <td>248.0</td>\n",
       "      <td>264</td>\n",
       "      <td>236.0</td>\n",
       "    </tr>\n",
       "  </tbody>\n",
       "</table>\n",
       "</div>"
      ],
      "text/plain": [
       "     team        country  year  athletes   age  prev_medals  medals  \\\n",
       "2053  USA  United States  2012       689  26.7        317.0     248   \n",
       "2054  USA  United States  2016       719  26.4        248.0     264   \n",
       "\n",
       "      predictions  \n",
       "2053        285.0  \n",
       "2054        236.0  "
      ]
     },
     "execution_count": 100,
     "metadata": {},
     "output_type": "execute_result"
    }
   ],
   "source": [
    "test[test[\"team\"] == \"USA\"]"
   ]
  },
  {
   "cell_type": "code",
   "execution_count": 103,
   "metadata": {},
   "outputs": [
    {
     "data": {
      "text/html": [
       "<div>\n",
       "<style scoped>\n",
       "    .dataframe tbody tr th:only-of-type {\n",
       "        vertical-align: middle;\n",
       "    }\n",
       "\n",
       "    .dataframe tbody tr th {\n",
       "        vertical-align: top;\n",
       "    }\n",
       "\n",
       "    .dataframe thead th {\n",
       "        text-align: right;\n",
       "    }\n",
       "</style>\n",
       "<table border=\"1\" class=\"dataframe\">\n",
       "  <thead>\n",
       "    <tr style=\"text-align: right;\">\n",
       "      <th></th>\n",
       "      <th>team</th>\n",
       "      <th>country</th>\n",
       "      <th>year</th>\n",
       "      <th>athletes</th>\n",
       "      <th>age</th>\n",
       "      <th>prev_medals</th>\n",
       "      <th>medals</th>\n",
       "      <th>predictions</th>\n",
       "    </tr>\n",
       "  </thead>\n",
       "  <tbody>\n",
       "    <tr>\n",
       "      <th>1234</th>\n",
       "      <td>MAR</td>\n",
       "      <td>Morocco</td>\n",
       "      <td>2012</td>\n",
       "      <td>67</td>\n",
       "      <td>25.7</td>\n",
       "      <td>2.0</td>\n",
       "      <td>1</td>\n",
       "      <td>4.0</td>\n",
       "    </tr>\n",
       "    <tr>\n",
       "      <th>1235</th>\n",
       "      <td>MAR</td>\n",
       "      <td>Morocco</td>\n",
       "      <td>2016</td>\n",
       "      <td>52</td>\n",
       "      <td>26.5</td>\n",
       "      <td>1.0</td>\n",
       "      <td>1</td>\n",
       "      <td>2.0</td>\n",
       "    </tr>\n",
       "  </tbody>\n",
       "</table>\n",
       "</div>"
      ],
      "text/plain": [
       "     team  country  year  athletes   age  prev_medals  medals  predictions\n",
       "1234  MAR  Morocco  2012        67  25.7          2.0       1          4.0\n",
       "1235  MAR  Morocco  2016        52  26.5          1.0       1          2.0"
      ]
     },
     "execution_count": 103,
     "metadata": {},
     "output_type": "execute_result"
    }
   ],
   "source": [
    "test[test[\"country\"] == \"Morocco\"]"
   ]
  },
  {
   "cell_type": "code",
   "execution_count": 104,
   "metadata": {},
   "outputs": [],
   "source": [
    "errors = (test[\"medals\"] - test[\"predictions\"]).abs()"
   ]
  },
  {
   "cell_type": "code",
   "execution_count": 105,
   "metadata": {},
   "outputs": [
    {
     "data": {
      "text/plain": [
       "6       1.0\n",
       "7       0.0\n",
       "24      0.0\n",
       "25      0.0\n",
       "37      1.0\n",
       "       ... \n",
       "2111    0.0\n",
       "2131    0.0\n",
       "2132    0.0\n",
       "2142    2.0\n",
       "2143    0.0\n",
       "Length: 405, dtype: float64"
      ]
     },
     "execution_count": 105,
     "metadata": {},
     "output_type": "execute_result"
    }
   ],
   "source": [
    "errors"
   ]
  },
  {
   "cell_type": "code",
   "execution_count": 106,
   "metadata": {},
   "outputs": [],
   "source": [
    "error_by_team = errors.groupby(test[\"team\"]).mean()"
   ]
  },
  {
   "cell_type": "code",
   "execution_count": 107,
   "metadata": {},
   "outputs": [
    {
     "data": {
      "text/plain": [
       "team\n",
       "AFG    0.5\n",
       "ALB    0.0\n",
       "ALG    1.5\n",
       "AND    0.0\n",
       "ANG    0.0\n",
       "      ... \n",
       "VIE    1.0\n",
       "VIN    0.0\n",
       "YEM    0.0\n",
       "ZAM    0.0\n",
       "ZIM    1.0\n",
       "Length: 204, dtype: float64"
      ]
     },
     "execution_count": 107,
     "metadata": {},
     "output_type": "execute_result"
    }
   ],
   "source": [
    "error_by_team"
   ]
  },
  {
   "cell_type": "code",
   "execution_count": 108,
   "metadata": {},
   "outputs": [],
   "source": [
    "medals_by_team = test[\"medals\"].groupby(test[\"team\"]).mean()"
   ]
  },
  {
   "cell_type": "code",
   "execution_count": 109,
   "metadata": {},
   "outputs": [],
   "source": [
    "error_ratio = error_by_team / medals_by_team"
   ]
  },
  {
   "cell_type": "code",
   "execution_count": 110,
   "metadata": {},
   "outputs": [
    {
     "data": {
      "text/plain": [
       "team\n",
       "AFG    1.0\n",
       "ALB    NaN\n",
       "ALG    1.0\n",
       "AND    NaN\n",
       "ANG    NaN\n",
       "      ... \n",
       "VIE    1.0\n",
       "VIN    NaN\n",
       "YEM    NaN\n",
       "ZAM    NaN\n",
       "ZIM    inf\n",
       "Length: 204, dtype: float64"
      ]
     },
     "execution_count": 110,
     "metadata": {},
     "output_type": "execute_result"
    }
   ],
   "source": [
    "error_ratio"
   ]
  },
  {
   "cell_type": "code",
   "execution_count": 113,
   "metadata": {},
   "outputs": [
    {
     "data": {
      "text/plain": [
       "team\n",
       "AFG    1.000000\n",
       "ALG    1.000000\n",
       "ARG    0.853659\n",
       "ARM    0.428571\n",
       "AUS    0.367347\n",
       "         ...   \n",
       "USA    0.126953\n",
       "UZB    0.625000\n",
       "VEN    1.750000\n",
       "VIE    1.000000\n",
       "ZIM         inf\n",
       "Length: 102, dtype: float64"
      ]
     },
     "execution_count": 113,
     "metadata": {},
     "output_type": "execute_result"
    }
   ],
   "source": [
    "error_ratio[~pd.isnull(error_ratio)]"
   ]
  },
  {
   "cell_type": "code",
   "execution_count": 114,
   "metadata": {},
   "outputs": [],
   "source": [
    "import numpy as np"
   ]
  },
  {
   "cell_type": "code",
   "execution_count": 116,
   "metadata": {},
   "outputs": [],
   "source": [
    "error_ratio = error_ratio[np.isfinite(error_ratio)]"
   ]
  },
  {
   "cell_type": "code",
   "execution_count": 118,
   "metadata": {},
   "outputs": [
    {
     "data": {
      "text/plain": [
       "team\n",
       "AFG    1.000000\n",
       "ALG    1.000000\n",
       "ARG    0.853659\n",
       "ARM    0.428571\n",
       "AUS    0.367347\n",
       "         ...   \n",
       "UKR    0.951220\n",
       "USA    0.126953\n",
       "UZB    0.625000\n",
       "VEN    1.750000\n",
       "VIE    1.000000\n",
       "Length: 97, dtype: float64"
      ]
     },
     "execution_count": 118,
     "metadata": {},
     "output_type": "execute_result"
    }
   ],
   "source": [
    "error_ratio"
   ]
  }
 ],
 "metadata": {
  "kernelspec": {
   "display_name": "base",
   "language": "python",
   "name": "python3"
  },
  "language_info": {
   "codemirror_mode": {
    "name": "ipython",
    "version": 3
   },
   "file_extension": ".py",
   "mimetype": "text/x-python",
   "name": "python",
   "nbconvert_exporter": "python",
   "pygments_lexer": "ipython3",
   "version": "3.9.13"
  },
  "orig_nbformat": 4
 },
 "nbformat": 4,
 "nbformat_minor": 2
}
